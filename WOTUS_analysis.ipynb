{
 "cells": [
  {
   "cell_type": "markdown",
   "metadata": {},
   "source": [
    "# Analysis of Public Comments Regarding the EPA's Revised Definition of \"Waters of the United States\" (WOTUS)\n",
    "\n",
    "In early 2017, President Trump signed an Executive Order<sup>[1](#footnote1)</sup> requesting that agencies review a 2015 rule regarding the \"Waters of the United States\". The agencies, including the Environmental Protection Agency (EPA) and the Department of the Army, were instructed to rescind or replace the rule, in accordance with law.\n",
    "\n",
    "The agencies have since conducted a reevaluation and revision of the definition of \"Waters of the United States\". Their proposed rule redefines the scope of waters federally regulated under the Clean Water Act (CWA). This rule was open for public comment until April 15, 2019.\n",
    "\n",
    "This project aims to apply Natural Language Processing (NLP) techniques to analyze the content of comments that are publicly available on the [regulations.gov web page](https://www.regulations.gov/docket?D=EPA-HQ-OW-2018-0149) for this docket. For technical reasons (see the [Data_Prep notebook](./Data_Prep.ipynb)), the dataset only includes ~8K comments, which are the ones typed directly onto the site. The dataset excludes another ~3K comments submitted in an attachment form (most of which were PDFs).\n",
    "\n",
    "Notes:\n",
    "\n",
    "<a name=\"footnote1\">1</a>: Executive Order 13778, signed on February 28, 2017, titled \"Restoring the Rule of Law, Federalism, and Economic Growth by Reviewing the 'Waters of the United States' Rule\""
   ]
  },
  {
   "cell_type": "markdown",
   "metadata": {},
   "source": [
    "## Library Imports"
   ]
  },
  {
   "cell_type": "code",
   "execution_count": 13,
   "metadata": {},
   "outputs": [],
   "source": [
    "import warnings\n",
    "warnings.filterwarnings('ignore') \n",
    "\n",
    "import numpy as np\n",
    "import pandas as pd\n",
    "pd.set_option('display.max_columns', 50)\n",
    "\n",
    "import matplotlib.pyplot as plt\n",
    "%matplotlib inline\n",
    "import seaborn as sns\n",
    "\n",
    "from scipy import linalg\n",
    "from sklearn.model_selection import train_test_split\n",
    "from sklearn.feature_extraction.text import CountVectorizer, TfidfVectorizer\n",
    "from sklearn import decomposition"
   ]
  },
  {
   "cell_type": "code",
   "execution_count": 2,
   "metadata": {},
   "outputs": [
    {
     "data": {
      "text/html": [
       "<div>\n",
       "<style scoped>\n",
       "    .dataframe tbody tr th:only-of-type {\n",
       "        vertical-align: middle;\n",
       "    }\n",
       "\n",
       "    .dataframe tbody tr th {\n",
       "        vertical-align: top;\n",
       "    }\n",
       "\n",
       "    .dataframe thead th {\n",
       "        text-align: right;\n",
       "    }\n",
       "</style>\n",
       "<table border=\"1\" class=\"dataframe\">\n",
       "  <thead>\n",
       "    <tr style=\"text-align: right;\">\n",
       "      <th></th>\n",
       "      <th>Document Title</th>\n",
       "      <th>Document ID</th>\n",
       "      <th>Posted Date</th>\n",
       "      <th>Received Date</th>\n",
       "      <th>Document SubType</th>\n",
       "      <th>Post Mark Date</th>\n",
       "      <th>Document Detail</th>\n",
       "      <th>Comment</th>\n",
       "    </tr>\n",
       "  </thead>\n",
       "  <tbody>\n",
       "    <tr>\n",
       "      <th>0</th>\n",
       "      <td>Anonymous public comment</td>\n",
       "      <td>EPA-HQ-OW-2018-0149-6689</td>\n",
       "      <td>2019-04-29</td>\n",
       "      <td>2019-04-11</td>\n",
       "      <td>Public Comment</td>\n",
       "      <td>04/11/2019</td>\n",
       "      <td>https://www.regulations.gov/document?D=EPA-HQ-...</td>\n",
       "      <td>I write to express my opposition to the Enviro...</td>\n",
       "    </tr>\n",
       "    <tr>\n",
       "      <th>1</th>\n",
       "      <td>Anonymous public comment</td>\n",
       "      <td>EPA-HQ-OW-2018-0149-6688</td>\n",
       "      <td>2019-04-29</td>\n",
       "      <td>2019-04-11</td>\n",
       "      <td>Public Comment</td>\n",
       "      <td>04/11/2019</td>\n",
       "      <td>https://www.regulations.gov/document?D=EPA-HQ-...</td>\n",
       "      <td>I write to express my opposition to the Enviro...</td>\n",
       "    </tr>\n",
       "    <tr>\n",
       "      <th>2</th>\n",
       "      <td>Anonymous public comment</td>\n",
       "      <td>EPA-HQ-OW-2018-0149-7377</td>\n",
       "      <td>2019-05-01</td>\n",
       "      <td>2019-04-11</td>\n",
       "      <td>Public Comment</td>\n",
       "      <td>04/11/2019</td>\n",
       "      <td>https://www.regulations.gov/document?D=EPA-HQ-...</td>\n",
       "      <td>Please abandon this proposed rollback of the 2...</td>\n",
       "    </tr>\n",
       "    <tr>\n",
       "      <th>3</th>\n",
       "      <td>Anonymous public comment</td>\n",
       "      <td>EPA-HQ-OW-2018-0149-6707</td>\n",
       "      <td>2019-04-29</td>\n",
       "      <td>2019-04-11</td>\n",
       "      <td>Public Comment</td>\n",
       "      <td>04/11/2019</td>\n",
       "      <td>https://www.regulations.gov/document?D=EPA-HQ-...</td>\n",
       "      <td>My husband and I have two wonderful daughters,...</td>\n",
       "    </tr>\n",
       "    <tr>\n",
       "      <th>4</th>\n",
       "      <td>Comment submitted by T. Dahlin</td>\n",
       "      <td>EPA-HQ-OW-2018-0149-7983</td>\n",
       "      <td>2019-05-01</td>\n",
       "      <td>2019-04-12</td>\n",
       "      <td>Public Comment</td>\n",
       "      <td>04/12/2019</td>\n",
       "      <td>https://www.regulations.gov/document?D=EPA-HQ-...</td>\n",
       "      <td>Please do not change the definitions within th...</td>\n",
       "    </tr>\n",
       "  </tbody>\n",
       "</table>\n",
       "</div>"
      ],
      "text/plain": [
       "                   Document Title               Document ID Posted Date  \\\n",
       "0        Anonymous public comment  EPA-HQ-OW-2018-0149-6689  2019-04-29   \n",
       "1        Anonymous public comment  EPA-HQ-OW-2018-0149-6688  2019-04-29   \n",
       "2        Anonymous public comment  EPA-HQ-OW-2018-0149-7377  2019-05-01   \n",
       "3        Anonymous public comment  EPA-HQ-OW-2018-0149-6707  2019-04-29   \n",
       "4  Comment submitted by T. Dahlin  EPA-HQ-OW-2018-0149-7983  2019-05-01   \n",
       "\n",
       "  Received Date Document SubType Post Mark Date  \\\n",
       "0    2019-04-11   Public Comment     04/11/2019   \n",
       "1    2019-04-11   Public Comment     04/11/2019   \n",
       "2    2019-04-11   Public Comment     04/11/2019   \n",
       "3    2019-04-11   Public Comment     04/11/2019   \n",
       "4    2019-04-12   Public Comment     04/12/2019   \n",
       "\n",
       "                                     Document Detail  \\\n",
       "0  https://www.regulations.gov/document?D=EPA-HQ-...   \n",
       "1  https://www.regulations.gov/document?D=EPA-HQ-...   \n",
       "2  https://www.regulations.gov/document?D=EPA-HQ-...   \n",
       "3  https://www.regulations.gov/document?D=EPA-HQ-...   \n",
       "4  https://www.regulations.gov/document?D=EPA-HQ-...   \n",
       "\n",
       "                                             Comment  \n",
       "0  I write to express my opposition to the Enviro...  \n",
       "1  I write to express my opposition to the Enviro...  \n",
       "2  Please abandon this proposed rollback of the 2...  \n",
       "3  My husband and I have two wonderful daughters,...  \n",
       "4  Please do not change the definitions within th...  "
      ]
     },
     "execution_count": 2,
     "metadata": {},
     "output_type": "execute_result"
    }
   ],
   "source": [
    "full_df = pd.read_pickle('./Data/full_df.pkl')\n",
    "\n",
    "full_df.head()"
   ]
  },
  {
   "cell_type": "code",
   "execution_count": 3,
   "metadata": {},
   "outputs": [
    {
     "data": {
      "text/plain": [
       "0    I write to express my opposition to the Enviro...\n",
       "1    I write to express my opposition to the Enviro...\n",
       "2    Please abandon this proposed rollback of the 2...\n",
       "3    My husband and I have two wonderful daughters,...\n",
       "4    Please do not change the definitions within th...\n",
       "Name: Comment, dtype: object"
      ]
     },
     "execution_count": 3,
     "metadata": {},
     "output_type": "execute_result"
    }
   ],
   "source": [
    "comments = full_df['Comment']\n",
    "\n",
    "comments.head()"
   ]
  },
  {
   "cell_type": "code",
   "execution_count": 14,
   "metadata": {},
   "outputs": [
    {
     "name": "stdout",
     "output_type": "stream",
     "text": [
      "(6140,) (2047,)\n"
     ]
    }
   ],
   "source": [
    "# Split comments into train and test sets\n",
    "train, test = train_test_split(comments,\n",
    "                               test_size=0.25,\n",
    "                               random_state=42)\n",
    "\n",
    "print(train.shape, test.shape)"
   ]
  },
  {
   "cell_type": "markdown",
   "metadata": {},
   "source": [
    "## Topic Analysis"
   ]
  },
  {
   "cell_type": "code",
   "execution_count": 40,
   "metadata": {},
   "outputs": [],
   "source": [
    "# Helper function to show top words per topics\n",
    "def show_topics(Vh, vocab_array, n_top_words=8):\n",
    "    \"\"\"\n",
    "    Returns a list of the n_top_words from topic matrix Vh\n",
    "    :param Vh: a topic-by-vocabulary orthonormal matrix\n",
    "    :param vocab_array: a Numpy array of the vocabulary terms\n",
    "        from the documents used in the analysis\n",
    "    :param n_top_words: int of how many words to show by topic\n",
    "    :return: list of top words by topic in Vh\n",
    "    \n",
    "    >>>show_topics(my_Vh_matrix[:4], vocab)\n",
    "    ['space launch satellite nasa commercial market satellites data',\n",
    "     'god atheists atheism religious believe argument religion true',\n",
    "     'nasa space lunar available mars probe moon edu',\n",
    "     'atheists religious atheism god religion believe belief atheist']\n",
    "    \"\"\"\n",
    "    top_words = lambda t: [vocab_array[i] for i in np.argsort(t)[:-n_top_words-1:-1]]\n",
    "    topic_words = ([top_words(t) for t in Vh])\n",
    "    return [' '.join(t) for t in topic_words]"
   ]
  },
  {
   "cell_type": "markdown",
   "metadata": {},
   "source": [
    "### Singular Value Decomposition Analysis"
   ]
  },
  {
   "cell_type": "code",
   "execution_count": 30,
   "metadata": {},
   "outputs": [
    {
     "name": "stdout",
     "output_type": "stream",
     "text": [
      "(6140, 19413)\n"
     ]
    }
   ],
   "source": [
    "# Create matrix with word counts by comment\n",
    "count_vec = CountVectorizer(stop_words='english')\n",
    "vocab_vecs = count_vec.fit_transform(train).todense()\n",
    "print(vocab_vecs.shape)\n",
    "\n",
    "# Create array of vocabulary terms\n",
    "vocab = np.array(count_vec.get_feature_names())"
   ]
  },
  {
   "cell_type": "code",
   "execution_count": 33,
   "metadata": {},
   "outputs": [
    {
     "name": "stdout",
     "output_type": "stream",
     "text": [
      "['authentic' 'author' 'authoring' 'authoritarian' 'authorities'\n",
      " 'authority' 'authorization' 'authorize' 'authorized' 'authorizes'\n",
      " 'authorizing' 'authors' 'autism' 'auto' 'autocrat' 'autofilled'\n",
      " 'autogenic' 'autoimmune' 'automated' 'automatic']\n"
     ]
    }
   ],
   "source": [
    "print(vocab[2000:2020])"
   ]
  },
  {
   "cell_type": "code",
   "execution_count": 41,
   "metadata": {},
   "outputs": [
    {
     "name": "stdout",
     "output_type": "stream",
     "text": [
      "(6140, 6140) (6140,) (6140, 19413)\n"
     ]
    }
   ],
   "source": [
    "# Run SVD to create topic matrices\n",
    "U, s, Vh = linalg.svd(vocab_vecs, full_matrices=False)\n",
    "print(U.shape, s.shape, Vh.shape)"
   ]
  },
  {
   "cell_type": "code",
   "execution_count": 45,
   "metadata": {},
   "outputs": [
    {
     "data": {
      "image/png": "[encoded data removed]",
      "text/plain": [
       "<Figure size 432x288 with 1 Axes>"
      ]
     },
     "metadata": {
      "needs_background": "light"
     },
     "output_type": "display_data"
    }
   ],
   "source": [
    "# Plot s to see where topic importance drops off\n",
    "plt.plot(range(1, 11), s[:10]);"
   ]
  },
  {
   "cell_type": "code",
   "execution_count": 47,
   "metadata": {},
   "outputs": [
    {
     "data": {
      "text/plain": [
       "['winthrop rosamond torrance faillacetarrytown lunatic jaegerssaint gratefully annilyn',\n",
       " 'water clean waterways families act proposal drinking gut',\n",
       " 'epa states waters definition farmers support united land',\n",
       " 'waters streams waterways act proposal states tributaries definition',\n",
       " 'waters water quality states united protections park wetlands',\n",
       " 'waterways rule polluters dirty clean protections communities waters',\n",
       " 'waters clean act protection dirty 2015 case environmental',\n",
       " 'proposed protections park quality parks case support national',\n",
       " 'water definition wotus drinking epa bodies protection cwa',\n",
       " 'epa corps wetlands park proposal protections streams parks']"
      ]
     },
     "execution_count": 47,
     "metadata": {},
     "output_type": "execute_result"
    }
   ],
   "source": [
    "# Print top 10 topics\n",
    "show_topics(Vh[:10], vocab)"
   ]
  },
  {
   "cell_type": "markdown",
   "metadata": {},
   "source": [
    "### NMF"
   ]
  },
  {
   "cell_type": "code",
   "execution_count": null,
   "metadata": {},
   "outputs": [],
   "source": []
  },
  {
   "cell_type": "markdown",
   "metadata": {},
   "source": [
    "## Temp test data"
   ]
  },
  {
   "cell_type": "code",
   "execution_count": 4,
   "metadata": {},
   "outputs": [],
   "source": [
    "from sklearn.datasets import fetch_20newsgroups"
   ]
  },
  {
   "cell_type": "code",
   "execution_count": 34,
   "metadata": {},
   "outputs": [
    {
     "name": "stdout",
     "output_type": "stream",
     "text": [
      "Loading 20 newsgroups dataset for categories:\n",
      "['alt.atheism', 'sci.space']\n",
      "1073 documents\n",
      "2 categories\n",
      "\n"
     ]
    }
   ],
   "source": [
    "categories = [\"alt.atheism\", \"sci.space\"]\n",
    "remove = (\"headers\", \"footers\", \"quotes\")\n",
    "\n",
    "print(\"Loading 20 newsgroups dataset for categories:\")\n",
    "print(categories)\n",
    "\n",
    "data = fetch_20newsgroups(subset='train',\n",
    "                          categories=categories,\n",
    "                          remove=remove)\n",
    "\n",
    "print(\"%d documents\" % len(data.filenames))\n",
    "print(\"%d categories\" % len(data.target_names))\n",
    "print()"
   ]
  },
  {
   "cell_type": "code",
   "execution_count": 35,
   "metadata": {},
   "outputs": [
    {
     "data": {
      "text/plain": [
       "[': \\n: >> Please enlighten me.  How is omnipotence contradictory?\\n: \\n: >By definition, all that can occur in the universe is governed by the rules\\n: >of nature. Thus god cannot break them. Anything that god does must be allowed\\n: >in the rules somewhere. Therefore, omnipotence CANNOT exist! It contradicts\\n: >the rules of nature.\\n: \\n: Obviously, an omnipotent god can change the rules.\\n\\nWhen you say, \"By definition\", what exactly is being defined;\\ncertainly not omnipotence. You seem to be saying that the \"rules of\\nnature\" are pre-existant somehow, that they not only define nature but\\nactually cause it. If that\\'s what you mean I\\'d like to hear your\\nfurther thoughts on the question.',\n",
       " \"In <19APR199320262420@kelvin.jpl.nasa.gov> baalke@kelvin.jpl.nasa.gov \\n\\nSorry I think I missed a bit of info on this Transition Experiment. What is it?\\n\\nWill this mean a loss of data or will the Magellan transmit data later on ??\\n\\nBTW: When will NASA cut off the connection with Magellan?? Not that I am\\nlooking forward to that day but I am just curious. I believe it had something\\nto do with the funding from the goverment (or rather _NO_ funding :-)\\n\\nok that's it for now. See you guys around,\\nJurriaan.\\n \",\n",
       " '\\nHenry, I made the assumption that he who gets there firstest with the mostest\\nwins. \\n\\nOhhh, you want to put in FINE PRINT which says \"Thou shall do wonderous R&D\\nrather than use off-the-shelf hardware\"? Sorry, didn\\'t see that in my copy.\\nMost of the Pournellesque proposals run along the lines of <some dollar\\namount> reward for <some simple goal>.  \\n\\nYou go ahead and do your development, I\\'ll buy off the shelf at higher cost (or\\neven Russian; but I also assume that there\\'d be some \"Buy US\" provos in there)\\nand be camped out in the Moon while you are launching and assembling little\\nitty-bitty payloads in LEO with your laser or gas gun.  And working out the\\nbugs of assembly & integration in LEO. \\n\\nOh, hey, could I get a couple of CanadARMs tuned for the lunar environment?  I\\nwanna do some teleoperated prospecting while I\\'m up there...\\n\\n\\n']"
      ]
     },
     "execution_count": 35,
     "metadata": {},
     "output_type": "execute_result"
    }
   ],
   "source": [
    "data.data[:3]"
   ]
  },
  {
   "cell_type": "code",
   "execution_count": 36,
   "metadata": {},
   "outputs": [
    {
     "data": {
      "text/plain": [
       "(1073, 17919)"
      ]
     },
     "execution_count": 36,
     "metadata": {},
     "output_type": "execute_result"
    }
   ],
   "source": [
    "t_count_vec = CountVectorizer(stop_words='english')\n",
    "t_vocab_vecs = t_count_vec.fit_transform(data.data).todense()\n",
    "\n",
    "t_vocab_vecs.shape"
   ]
  },
  {
   "cell_type": "code",
   "execution_count": 37,
   "metadata": {},
   "outputs": [
    {
     "name": "stdout",
     "output_type": "stream",
     "text": [
      "(17919,)\n"
     ]
    }
   ],
   "source": [
    "t_vocab = np.array(t_count_vec.get_feature_names())\n",
    "print(t_vocab.shape)"
   ]
  },
  {
   "cell_type": "code",
   "execution_count": 38,
   "metadata": {},
   "outputs": [
    {
     "name": "stdout",
     "output_type": "stream",
     "text": [
      "(1073, 1073) (1073,) (1073, 17919)\n"
     ]
    }
   ],
   "source": [
    "t_U, t_s, t_Vh = linalg.svd(t_vocab_vecs, full_matrices=False)\n",
    "print(t_U.shape, t_s.shape, t_Vh.shape)"
   ]
  },
  {
   "cell_type": "code",
   "execution_count": 39,
   "metadata": {},
   "outputs": [
    {
     "data": {
      "text/plain": [
       "['propagandist sandvik surname galacticentric warned kindergarten reconcile surreal',\n",
       " 'space launch satellite nasa commercial market satellites data',\n",
       " 'god atheists atheism religious believe argument religion true',\n",
       " 'nasa space lunar available mars probe moon edu',\n",
       " 'atheists religious atheism god religion believe belief atheist',\n",
       " 'nasa space available ftp edu data gov anonymous',\n",
       " 'larson theory universe physical unified star motion physicist',\n",
       " 'space shuttle society telescope news international national aerospace',\n",
       " 'telescope word national observatory satellite infrared center prefix',\n",
       " 'god response posting subject typical information einstein bush']"
      ]
     },
     "execution_count": 39,
     "metadata": {},
     "output_type": "execute_result"
    }
   ],
   "source": [
    "show_topics(t_Vh[:10], t_vocab)"
   ]
  },
  {
   "cell_type": "code",
   "execution_count": null,
   "metadata": {},
   "outputs": [],
   "source": []
  },
  {
   "cell_type": "code",
   "execution_count": null,
   "metadata": {},
   "outputs": [],
   "source": []
  },
  {
   "cell_type": "code",
   "execution_count": null,
   "metadata": {},
   "outputs": [],
   "source": []
  }
 ],
 "metadata": {
  "kernelspec": {
   "display_name": "Python 3",
   "language": "python",
   "name": "python3"
  },
  "language_info": {
   "codemirror_mode": {
    "name": "ipython",
    "version": 3
   },
   "file_extension": ".py",
   "mimetype": "text/x-python",
   "name": "python",
   "nbconvert_exporter": "python",
   "pygments_lexer": "ipython3",
   "version": "3.7.3"
  }
 },
 "nbformat": 4,
 "nbformat_minor": 2
}
