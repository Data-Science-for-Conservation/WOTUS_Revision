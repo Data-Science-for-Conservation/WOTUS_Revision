{
 "cells": [
  {
   "cell_type": "markdown",
   "metadata": {},
   "source": [
    "# Analysis of Public Comments Regarding the EPA's Revised Definition of \"Waters of the United States\" (WOTUS)\n",
    "\n",
    "In early 2017, President Trump signed an Executive Order<sup>[1](#footnote1)</sup> requesting that agencies review a 2015 rule regarding the \"Waters of the United States\". The agencies, including the Environmental Protection Agency (EPA) and the Department of the Army, were instructed to rescind or replace the rule, in accordance with law.\n",
    "\n",
    "The agencies have since conducted a reevaluation and revision of the definition of \"Waters of the United States\". Their proposed rule redefines the scope of waters federally regulated under the Clean Water Act (CWA). This rule was open for public comment until April 15, 2019.\n",
    "\n",
    "This project aims to apply Natural Language Processing (NLP) techniques to analyze the content of comments that are publicly available on the [regulations.gov web page](https://www.regulations.gov/docket?D=EPA-HQ-OW-2018-0149) for this docket. For technical reasons (see the [Data_Prep notebook](./Data_Prep.ipynb)), the dataset only includes ~8K comments, which are the ones typed directly onto the site. The dataset excludes another ~3K comments submitted in an attachment form (most of which were PDFs).\n",
    "\n",
    "Notes:\n",
    "\n",
    "<a name=\"footnote1\">1</a>: Executive Order 13778, signed on February 28, 2017, titled \"Restoring the Rule of Law, Federalism, and Economic Growth by Reviewing the 'Waters of the United States' Rule\""
   ]
  },
  {
   "cell_type": "markdown",
   "metadata": {},
   "source": [
    "## Library Imports"
   ]
  },
  {
   "cell_type": "code",
   "execution_count": 7,
   "metadata": {},
   "outputs": [],
   "source": [
    "import warnings\n",
    "warnings.filterwarnings('ignore') \n",
    "\n",
    "import numpy as np\n",
    "import pandas as pd\n",
    "pd.set_option('display.max_columns', 50)\n",
    "\n",
    "import matplotlib.pyplot as plt\n",
    "%matplotlib inline\n",
    "import seaborn as sns\n",
    "\n",
    "from sklearn import decomposition\n",
    "from scipy import linalg"
   ]
  },
  {
   "cell_type": "code",
   "execution_count": 2,
   "metadata": {},
   "outputs": [
    {
     "data": {
      "text/html": [
       "<div>\n",
       "<style scoped>\n",
       "    .dataframe tbody tr th:only-of-type {\n",
       "        vertical-align: middle;\n",
       "    }\n",
       "\n",
       "    .dataframe tbody tr th {\n",
       "        vertical-align: top;\n",
       "    }\n",
       "\n",
       "    .dataframe thead th {\n",
       "        text-align: right;\n",
       "    }\n",
       "</style>\n",
       "<table border=\"1\" class=\"dataframe\">\n",
       "  <thead>\n",
       "    <tr style=\"text-align: right;\">\n",
       "      <th></th>\n",
       "      <th>Document Title</th>\n",
       "      <th>Document ID</th>\n",
       "      <th>Posted Date</th>\n",
       "      <th>Received Date</th>\n",
       "      <th>Document SubType</th>\n",
       "      <th>Post Mark Date</th>\n",
       "      <th>Document Detail</th>\n",
       "      <th>Comment</th>\n",
       "    </tr>\n",
       "  </thead>\n",
       "  <tbody>\n",
       "    <tr>\n",
       "      <th>0</th>\n",
       "      <td>Anonymous public comment</td>\n",
       "      <td>EPA-HQ-OW-2018-0149-6689</td>\n",
       "      <td>2019-04-29</td>\n",
       "      <td>2019-04-11</td>\n",
       "      <td>Public Comment</td>\n",
       "      <td>04/11/2019</td>\n",
       "      <td>https://www.regulations.gov/document?D=EPA-HQ-...</td>\n",
       "      <td>I write to express my opposition to the Enviro...</td>\n",
       "    </tr>\n",
       "    <tr>\n",
       "      <th>1</th>\n",
       "      <td>Anonymous public comment</td>\n",
       "      <td>EPA-HQ-OW-2018-0149-6688</td>\n",
       "      <td>2019-04-29</td>\n",
       "      <td>2019-04-11</td>\n",
       "      <td>Public Comment</td>\n",
       "      <td>04/11/2019</td>\n",
       "      <td>https://www.regulations.gov/document?D=EPA-HQ-...</td>\n",
       "      <td>I write to express my opposition to the Enviro...</td>\n",
       "    </tr>\n",
       "    <tr>\n",
       "      <th>2</th>\n",
       "      <td>Anonymous public comment</td>\n",
       "      <td>EPA-HQ-OW-2018-0149-7377</td>\n",
       "      <td>2019-05-01</td>\n",
       "      <td>2019-04-11</td>\n",
       "      <td>Public Comment</td>\n",
       "      <td>04/11/2019</td>\n",
       "      <td>https://www.regulations.gov/document?D=EPA-HQ-...</td>\n",
       "      <td>Please abandon this proposed rollback of the 2...</td>\n",
       "    </tr>\n",
       "    <tr>\n",
       "      <th>3</th>\n",
       "      <td>Anonymous public comment</td>\n",
       "      <td>EPA-HQ-OW-2018-0149-6707</td>\n",
       "      <td>2019-04-29</td>\n",
       "      <td>2019-04-11</td>\n",
       "      <td>Public Comment</td>\n",
       "      <td>04/11/2019</td>\n",
       "      <td>https://www.regulations.gov/document?D=EPA-HQ-...</td>\n",
       "      <td>My husband and I have two wonderful daughters,...</td>\n",
       "    </tr>\n",
       "    <tr>\n",
       "      <th>4</th>\n",
       "      <td>Comment submitted by T. Dahlin</td>\n",
       "      <td>EPA-HQ-OW-2018-0149-7983</td>\n",
       "      <td>2019-05-01</td>\n",
       "      <td>2019-04-12</td>\n",
       "      <td>Public Comment</td>\n",
       "      <td>04/12/2019</td>\n",
       "      <td>https://www.regulations.gov/document?D=EPA-HQ-...</td>\n",
       "      <td>Please do not change the definitions within th...</td>\n",
       "    </tr>\n",
       "  </tbody>\n",
       "</table>\n",
       "</div>"
      ],
      "text/plain": [
       "                   Document Title               Document ID Posted Date  \\\n",
       "0        Anonymous public comment  EPA-HQ-OW-2018-0149-6689  2019-04-29   \n",
       "1        Anonymous public comment  EPA-HQ-OW-2018-0149-6688  2019-04-29   \n",
       "2        Anonymous public comment  EPA-HQ-OW-2018-0149-7377  2019-05-01   \n",
       "3        Anonymous public comment  EPA-HQ-OW-2018-0149-6707  2019-04-29   \n",
       "4  Comment submitted by T. Dahlin  EPA-HQ-OW-2018-0149-7983  2019-05-01   \n",
       "\n",
       "  Received Date Document SubType Post Mark Date  \\\n",
       "0    2019-04-11   Public Comment     04/11/2019   \n",
       "1    2019-04-11   Public Comment     04/11/2019   \n",
       "2    2019-04-11   Public Comment     04/11/2019   \n",
       "3    2019-04-11   Public Comment     04/11/2019   \n",
       "4    2019-04-12   Public Comment     04/12/2019   \n",
       "\n",
       "                                     Document Detail  \\\n",
       "0  https://www.regulations.gov/document?D=EPA-HQ-...   \n",
       "1  https://www.regulations.gov/document?D=EPA-HQ-...   \n",
       "2  https://www.regulations.gov/document?D=EPA-HQ-...   \n",
       "3  https://www.regulations.gov/document?D=EPA-HQ-...   \n",
       "4  https://www.regulations.gov/document?D=EPA-HQ-...   \n",
       "\n",
       "                                             Comment  \n",
       "0  I write to express my opposition to the Enviro...  \n",
       "1  I write to express my opposition to the Enviro...  \n",
       "2  Please abandon this proposed rollback of the 2...  \n",
       "3  My husband and I have two wonderful daughters,...  \n",
       "4  Please do not change the definitions within th...  "
      ]
     },
     "execution_count": 2,
     "metadata": {},
     "output_type": "execute_result"
    }
   ],
   "source": [
    "full_df = pd.read_pickle('./Data/full_df.pkl')\n",
    "\n",
    "full_df.head()"
   ]
  },
  {
   "cell_type": "code",
   "execution_count": 3,
   "metadata": {},
   "outputs": [
    {
     "data": {
      "text/plain": [
       "0    I write to express my opposition to the Enviro...\n",
       "1    I write to express my opposition to the Enviro...\n",
       "2    Please abandon this proposed rollback of the 2...\n",
       "3    My husband and I have two wonderful daughters,...\n",
       "4    Please do not change the definitions within th...\n",
       "Name: Comment, dtype: object"
      ]
     },
     "execution_count": 3,
     "metadata": {},
     "output_type": "execute_result"
    }
   ],
   "source": [
    "comments = full_df['Comment']\n",
    "\n",
    "comments.head()"
   ]
  },
  {
   "cell_type": "code",
   "execution_count": 4,
   "metadata": {},
   "outputs": [],
   "source": [
    "from sklearn.datasets import fetch_20newsgroups"
   ]
  },
  {
   "cell_type": "code",
   "execution_count": 5,
   "metadata": {},
   "outputs": [
    {
     "name": "stderr",
     "output_type": "stream",
     "text": [
      "Downloading 20news dataset. This may take a few minutes.\n",
      "Downloading dataset from https://ndownloader.figshare.com/files/5975967 (14 MB)\n"
     ]
    },
    {
     "name": "stdout",
     "output_type": "stream",
     "text": [
      "Loading 20 newsgroups dataset for categories:\n",
      "['alt.atheism', 'talk.religion.misc']\n",
      "857 documents\n",
      "2 categories\n",
      "\n"
     ]
    }
   ],
   "source": [
    "categories = [\n",
    "    'alt.atheism',\n",
    "    'talk.religion.misc',\n",
    "]\n",
    "\n",
    "print(\"Loading 20 newsgroups dataset for categories:\")\n",
    "print(categories)\n",
    "\n",
    "data = fetch_20newsgroups(subset='train', categories=categories)\n",
    "print(\"%d documents\" % len(data.filenames))\n",
    "print(\"%d categories\" % len(data.target_names))\n",
    "print()"
   ]
  },
  {
   "cell_type": "code",
   "execution_count": 9,
   "metadata": {},
   "outputs": [
    {
     "data": {
      "text/plain": [
       "['From: mangoe@cs.umd.edu (Charley Wingate)\\nSubject: Benediktine Metaphysics\\nLines: 24\\n\\nBenedikt Rosenau writes, with great authority:\\n\\n>     IF IT IS CONTRADICTORY IT CANNOT EXIST.\\n\\n\"Contradictory\" is a property of language.  If I correct this to\\n\\n\\n      THINGS DEFINED BY CONTRADICTORY LANGUAGE DO NOT EXIST\\n\\nI will object to definitions as reality.  If you then amend it to\\n\\n      THINGS DESCRIBED BY CONTRADICTORY LANGUAGE DO NOT EXIST\\n\\nthen we\\'ve come to something which is plainly false.  Failures in\\ndescription are merely failures in description.\\n\\n(I\\'m not an objectivist, remember.)\\n\\n\\n-- \\nC. Wingate        + \"The peace of God, it is no peace,\\n                  +    but strife closed in the sod.\\nmangoe@cs.umd.edu +  Yet, brothers, pray for but one thing:\\ntove!mangoe       +    the marv\\'lous peace of God.\"\\n',\n",
       " 'Subject: Re: There must be a creator! (Maybe)\\nFrom: halat@pooh.bears (Jim Halat)\\nReply-To: halat@pooh.bears (Jim Halat)\\nLines: 24\\n\\nIn article <16BA1E927.DRPORTER@SUVM.SYR.EDU>, DRPORTER@SUVM.SYR.EDU (Brad Porter) writes:\\n>\\n>   Science is wonderful at answering most of our questions.  I\\'m not the type\\n>to question scientific findings very often, but...  Personally, I find the\\n>theory of evolution to be unfathomable.  Could humans, a highly evolved,\\n>complex organism that thinks, learns, and develops truly be an organism\\n>that resulted from random genetic mutations and natural selection?\\n\\n[...stuff deleted...]\\n\\nComputers are an excellent example...of evolution without \"a\" creator.\\nWe did not \"create\" computers.  We did not create the sand that goes\\ninto the silicon that goes into the integrated circuits that go into\\nprocessor board.  We took these things and put them together in an\\ninteresting way. Just like plants \"create\" oxygen using light through \\nphotosynthesis.  It\\'s a much bigger leap to talk about something that\\ncreated \"everything\" from nothing.  I find it unfathomable to resort\\nto believing in a creator when a much simpler alternative exists: we\\nsimply are incapable of understanding our beginnings -- if there even\\nwere beginnings at all.  And that\\'s ok with me.  The present keeps me\\nperfectly busy.\\n\\n-jim halat\\n\\n',\n",
       " 'From: MANDTBACKA@FINABO.ABO.FI (Mats Andtbacka)\\nSubject: Re: An Anecdote about Islam\\nIn-Reply-To: jaeger@buphy.bu.edu\\'s message of 5 Apr 93 16:49:14 GMT\\nOrganization: Unorganized Usenet Postings UnInc.\\nX-News-Reader: VMS NEWS 1.24\\nLines: 24\\n\\nIn <114127@bu.edu> jaeger@buphy.bu.edu writes:\\n\\n[deletia]\\n\\n> I don\\'t understand the point of this petty sarcasm. It is a basic \\n> principle of Islam that if one is born muslim or one says \"I testify\\n> that there is no god but God and Mohammad is a prophet of God\" that,\\n> so long as one does not explicitly reject Islam by word then one _must_\\n> be considered muslim by all muslims. So the phenomenon you\\'re attempting\\n> to make into a general rule or psychology is a direct odds with basic\\n> Islamic principles. If you want to attack Islam you could do better than\\n> than to argue against something that Islam explicitly contradicts.\\n\\n      In the deletions somewhere, it mentioned something about chopping\\noff of hands being a punishment for theft in Saudi Arabia. Assuming this\\nis so (I wouldn\\'t know), and assuming it is done by people fitting your\\nrequirement for \"muslim\" (which I find highly likely), then would you\\nplease try to convince Bobby Mozumder that muslims chop people\\'s hands\\noff?\\n\\n      Come back when you\\'ve succeeded.\\n\\n-- \\n  Disclaimer?   \"It\\'s great to be young and insane!\"\\n',\n",
       " 'From: royc@rbdc.wsnc.org (Roy Crabtree)\\nSubject: Re: A Message for you Mr. President: How do you know what happened?\\nOrganization: Red Barn Data Center\\nLines: 50\\n\\nIn article <1qvv7u$kc1@morrow.stanford.edu> salem@pangea.Stanford.EDU (Bruce Salem) writes:\\n...\\n>\\tI think that the consensus will become that FBI/ATF muffed it,\\n>not merely because they walked into an ambush on Feb 28, and Koresh\\n>got his prophesy today, against their stated intentions, but because\\n>they played right into polarizing the situation and not diffusing\\n>it.\\n>\\n>\\tKoresh had set up all the conditions of a classic cult\\n>confrontation and had stated publically what the outcome would become.\\n\\n\\tBefore or after his kids were shot?\\n\\n>The government upped the ante and parcipitated the conclusion today.\\n>It does seem that the fires were set from within the compound by the\\n>members of the group and not caused by the CS gas or the way it was\\n>delivered. Let the subsequent investigation shed light on that. Suppose\\n\\n\\tThen why make the comment?\\n\\n>that the government had used pyrotechnics and started the fire. The\\n>Dividians still had the decision to stay or leave. They never intended\\n\\n\\tAs did the Jews against the Nazis in WW II:  do what I say or die.\\n\\n>to leave.\\n>\\n>>The building burns, almost everyone dies.  It probably doesn\\'t bother\\n>>you much, but it bothers many other people.....most of whom dont believe\\n>>particularly in Koresh or his message.\\n\\n\\n\\tALl humans, I hope.\\n\\n>\\n>\\tYes, the finger pointing has begun.\\n>\\n>>\\tFour ATF agents and 90 branch Davidians are now dead because of\\n>>crazy tactics on the part of the ATF and FBI.\\n>\\n>\\tYeah, they blew it. They were being too \"rational\" in a\\n>situation that was not your ordianry criminal game. They haven\\'t learned\\n>that much from Jonestown, or The Move House, or the SLA shootout.\\n\\n\\tOr perhaps they have:  kill first, blame the dead ones,\\n\\tdestroy all the evidence.\\n\\n>\\n\\nroyc\\n',\n",
       " 'Subject: Re: \"Imaginary\" Friends - Info and Experiences\\nFrom: patb@bnr.co.uk (Patrick Brosnan)\\nOrganization: BNR Europe, New Southgate, London.\\nNNTP-Posting-Host: bnsgs195.bnr.co.uk\\nLines: 21\\n\\nIn article <1993Apr2.041929.24320@mnemosyne.cs.du.edu> kditto@nyx.cs.du.edu (Kimborly Ditto) writes:\\n>\\n>Concerniong this thread...\\n>\\n>Has anyone ever seen \"Drop Dead Fred\" ??  THis movie seems to tipify the\\n>\"imaginary friend\" theme rather well.  I LOVED the movie, as i had an\\n>imaginary friend when i was a kid and it borught back great memories.  \\n>\\n>Seriously, if you have a chance, see \"Drop Dead Fred\".  It\\'ll make ya\\n>think.  especially the end.\\n>\\n>Blessings!\\n>--Kim\\n>\\n\\n\\n-- \\nPatrick Brosnan.  <patb@bnr.co.uk> || ...!mcsun!ukc!stc!patb\\nNorthern Telecomm, Oakleigh Rd South, London N11 1HB. \\nPhone : +44 81 945 2135 or +44 81 945 4000 x2135\\n\"Oh, Flash, I love you - but we\\'ve only got 14 hours to save the universe.\"\\n',\n",
       " ' howland.reston.ans.net!europa.eng.gtefsd.com!uunet!mcsun!Germany.EU.net!news.dfn.de!tubsibr!dbstu1.rz.tu-bs.de!I3150101\\nSubject: Re: Gospel Dating\\nFrom: I3150101@dbstu1.rz.tu-bs.de (Benedikt Rosenau)\\nOrganization: Technical University Braunschweig, Germany\\nLines: 35\\n\\nIn article <66015@mimsy.umd.edu>\\nmangoe@cs.umd.edu (Charley Wingate) writes:\\n \\n(Deletion)\\n>I cannot see any evidence for the V. B. which the cynics in this group would\\n>ever accept.  As for the second, it is the foundation of the religion.\\n>Anyone who claims to have seen the risen Jesus (back in the 40 day period)\\n>is a believer, and therefore is discounted by those in this group; since\\n>these are all ancients anyway, one again to choose to dismiss the whole\\n>thing.  The third is as much a metaphysical relationship as anything else--\\n>even those who agree to it have argued at length over what it *means*, so\\n>again I don\\'t see how evidence is possible.\\n>\\n \\nNo cookies, Charlie. The claims that Jesus have been seen are discredited\\nas extraordinary claims that don\\'t match their evidence. In this case, it\\nis for one that the gospels cannot even agree if it was Jesus who has been\\nseen. Further, there are zillions of other spook stories, and one would\\nhardly consider others even in a religious context to be some evidence of\\na resurrection.\\n \\nThere have been more elaborate arguments made, but it looks as if they have\\nnot passed your post filtering.\\n \\n \\n>I thus interpret the \"extraordinary claims\" claim as a statement that the\\n>speaker will not accept *any* evidence on the matter.\\n \\nIt is no evidence in the strict meaning. If there was actual evidence it would\\nprobably be part of it, but the says nothing about the claims.\\n \\n \\nCharlie, I have seen Invisible Pink Unicorns!\\nBy your standards we have evidence for IPUs now.\\n   Benedikt\\n',\n",
       " 'From: I3150101@dbstu1.rz.tu-bs.de (Benedikt Rosenau)\\nSubject: Re: Americans and Evolution\\nOrganization: Technical University Braunschweig, Germany\\nLines: 67\\n\\nIn article <1pq47tINN8lp@senator-bedfellow.MIT.EDU>\\nbobs@thnext.mit.edu (Robert Singleton) writes:\\n \\n(Deletion)\\n>\\n>I will argue that your latter statement, \"I believe that no gods exist\"\\n>does rest upon faith - that is, if you are making a POSITIVE statement\\n>that \"no gods exist\" (strong atheism) rather than merely saying I don\\'t\\n>know and therefore don\\'t believe in them and don\\'t NOT believe in then\\n>(weak atheism). Once again, to not believe in God is different than saying\\n>I BELIEVE that God does not exist. I still maintain the position, even\\n>after reading the FAQs, that strong atheism requires faith.\\n>\\n \\nNo it in the way it is usually used. In my view, you are saying here that\\ndriving a car requires faith that the car drives.\\n \\nFor me it is a conclusion, and I have no more faith in it than I have in the\\npremises and the argument used.\\n \\n \\n>But first let me say the following.\\n>We might have a language problem here - in regards to \"faith\" and\\n>\"existence\". I, as a Christian, maintain that God does not exist.\\n>To exist means to have being in space and time. God does not HAVE\\n>being - God IS Being. Kierkegaard once said that God does not\\n>exist, He is eternal. With this said, I feel it\\'s rather pointless\\n>to debate the so called \"existence\" of God - and that is not what\\n>I\\'m doing here. I believe that God is the source and ground of\\n>being. When you say that \"god does not exist\", I also accept this\\n>statement - but we obviously mean two different things by it. However,\\n>in what follows I will use the phrase \"the existence of God\" in it\\'s\\n>\\'usual sense\\' - and this is the sense that I think you are using it.\\n>I would like a clarification upon what you mean by \"the existence of\\n>God\".\\n>\\n \\nNo, that\\'s a word game. The term god is used in a different way usually.\\nWhen you use a different definition it is your thing, but until it is\\ncommonly accepted you would have to say the way I define god is ... and\\nthat does not exist, it is existence itself, so I say it does not exist.\\n \\nInterestingly, there are those who say that \"existence exists\" is one of\\nthe indubitable statements possible.\\n \\nFurther, saying god is existence is either a waste of time, existence is\\nalready used and there is no need to replace it by god, or you are implying\\nmore with it, in which case your definition and your argument so far\\nare incomplete, making it a fallacy.\\n \\n \\n(Deletion)\\n>One can never prove that God does or does not exist. When you say\\n>that you believe God does not exist, and that this is an opinion\\n>\"based upon observation\", I will have to ask \"what observtions are\\n>you refering to?\" There are NO observations - pro or con - that\\n>are valid here in establishing a POSITIVE belief.\\n(Deletion)\\n \\nWhere does that follow? Aren\\'t observations based on the assumption\\nthat something exists?\\n \\nAnd wouldn\\'t you say there is a level of definition that the assumption\\n\"god is\" is meaningful. If not, I would reject that concept anyway.\\n \\nSo, where is your evidence for that \"god is\" is meaningful at some level?\\n   Benedikt\\n',\n",
       " \"From: halat@pooh.bears (Jim Halat)\\nSubject: Re: After 2000 years, can we say that Christian Morality is\\nReply-To: halat@pooh.bears (Jim Halat)\\nLines: 45\\n\\nIn article <1r3qab$o1v@horus.ap.mchp.sni.de>, frank@D012S658.uucp (Frank O'Dwyer) writes:\\n>In article <930421.102525.9Y9.rusnews.w165w@mantis.co.uk> mathew <mathew@mantis.co.uk> writes:\\n>#frank@D012S658.uucp (Frank O'Dwyer) writes:\\n>#> In article <930420.100544.6n0.rusnews.w165w@mantis.co.uk> mathew\\n>#> <mathew@mantis.co.uk> writes:\\n>#> #This is complete nonsense.  Relativism means saying that there is no absolut\\n>#> #standard of morality; it does NOT mean saying that all standards of morality\\n>#> #are equally good.\\n>#> \\n>#> Presumably this means that some moral systems are better than others?\\n>#> How so?  How do you manage this without an objective frame of reference?\\n>#\\n\\nEither Frank O'Dwyer or mathew said:\\n\\n[...stiff deleted...]\\n\\n>#Which goes faster, a bullet or a snail?  How come you can answer that when\\n>#Einstein proved that there isn't an objective frame of reference?\\n\\n[...stiff deleted...]\\n\\nSpeed is a quantifiable measure resulting from a set of methods that\\nwill result in the same value measured no matter the reference.  A \\nbullet with zero velocity sitting on a table on a train moving 60mph\\nwill be moving at a speed of\\n\\n        (a) 0mph to someone on the train.\\n        (b) 60mph to someone stationary next to the train.\\n\\nThe reference frame makes the speed relative.  But what's interesting\\nhere is that every person on the train will see a stationary bullet.\\nEvery person off, a bullet moving 60mph.  \\n\\nI know of no train where all the people on it, every time it is\\nfilled, will see a moral problem in exactly the same way.\\n\\n-- \\n jim halat         halat@bear.com     \\nbear-stearns       --whatever doesn't kill you will only serve to annoy you--\\n   nyc             i speak only for myself\\n\\n\\n\\n\\n\",\n",
       " 'From: healta@saturn.wwc.edu (Tammy R Healy)\\nSubject: Re: Requests\\nLines: 53\\nOrganization: Walla Walla College\\nLines: 53\\n\\nIn article <11857@vice.ICO.TEK.COM> bobbe@vice.ICO.TEK.COM (Robert Beauchaine) writes:\\n>From: bobbe@vice.ICO.TEK.COM (Robert Beauchaine)\\n>Subject: Re: Requests\\n>Date: 19 Apr 93 18:25:08 GMT\\n>In article <C5qLLG.4BC@mailer.cc.fsu.edu> mayne@cs.fsu.edu writes:\\n>>\\n(excess stuff deleted...)\\n\\n    \\n>  However, it seems that a local church elder has been getting\\n>  revelations from god about a devastating quake scheduled to level\\n>  the area on May 3rd.  He has independent corroboration from\\n>  several friends, who apparently have had similar revelations.  The\\n>  5.7 quake was, in fact, in response to a request from the lot of\\n>  them seeking a sign from god on the veracity of their visions.\\n>\\n>  None of this would be terribly interesting, except for the amount\\n>  of stir it has created in the area.  Many, many people are taking\\n>  these claims very seriously.  There are some making plans to be\\n>  out of the are on the target date.  My local religious radio\\n>  station devoted 4 hours of discussion on the topic.  \\n>\\n>  I even called up during one of the live broadcasts to tell the\\n>  host that he would have a full account of my conversion on May\\n>  4th, provided my family and I survived the devastation and ruin\\n>  that will invariably follow the quake.\\n>\\n>/\\\\/\\\\/\\\\/\\\\/\\\\/\\\\/\\\\/\\\\/\\\\/\\\\/\\\\/\\\\/\\\\/\\\\/\\\\/\\\\/\\\\/\\\\/\\\\/\\\\/\\\\/\\\\/\\\\/\\\\/\\\\/\\\\/\\\\/\\\\/\\\\/\\\\/\\\\/\\\\/\\\\/\\\\ \\n>\\n>Bob Beauchaine bobbe@vice.ICO.TEK.COM \\n>\\n>They said that Queens could stay, they blew the Bronx away,\\n>and sank Manhattan out at sea.\\n>\\n>^^^^^^^^^^^^^^^^^^^^^^^^^^^^^^^^^^^^^^^^^^^^^^^^^^^^^^^^^^^^^^^^^^^^\\n\\nI know of a similar incident about 3 years ago.  A climatologist( Ithink \\nthat was his profession) named Iben Browning predicted that an earthquake \\nwould hit the New Madrid fault on Dec.3.  Some schools in Missouri that were \\non the fault line actually cancelled school for the day.  Many people \\nevacuated New Madrid and other towns in teh are.  I wouldn\\'t be suprised if \\nthere were more journalists in the area than residents.  Of course, teh \\nearthquake never occured.  HOw do I know about his?  I used to live in \\nSouthern Illinois and the lican middle school was built directly on the \\nfault line.  No we still had school... We laughed at the poor idiots who \\nbelieved the prediction. :):):):)\\n\\nBob, if you\\'re wanting an excuse to convert to Christianity, you gonna have \\nto look elsewhere.\\n\\nTammy \"No Trim\" Healy\\n\\n\\n',\n",
       " 'From: ingles@engin.umich.edu (Ray Ingles)\\nSubject: Re: There must be a creator! (Maybe)\\nOrganization: University of Michigan Engineering, Ann Arbor\\nLines: 51\\nDistribution: world\\nNNTP-Posting-Host: syndicoot.engin.umich.edu\\n\\nIn article <1993Apr2.144909.806@batman.bmd.trw.com> jbrown@batman.bmd.trw.com writes:\\n>In article <1993Apr2.165032.3356@bradford.ac.uk>, L.Newnham@bradford.ac.uk (Leonard Newnham) writes:\\n[deletions]\\n>>...Argument from incredulity has not been considered a valid form of\\n>> reasoning since medieval times.\\n[deletions]\\n>Interesting that you should mention that \"Argument from incredulity has\\n>not been considered a valid form of reasoning since medieval times.\"  I\\n>quite agree.  Why then, do some atheists here engage in it?  More than\\n>a few times I have read posts where the atheists posting state that\\n>they \\'cannot see how a gracious and loving God can allow such evil and\\n>suffering to occur as we see on the earth.\\'  Simply because they cannot\\n>envision it, it must not be true.  If this is not an argument from\\n>incredulity, I don\\'t know what is!\\n\\n As you have presented it, it is indeed an argument from incredulity.\\nHowever, from what I have seen, it is not often presented in this manner.\\nIt is usually presented more in the form, \"And *besides*, I cannot see...\\n...nor have I ever been offered a convincing explanation.\"\\n Moreover, it is not unreasonable to ask for an explanation for such\\nphenomena. That theism does not provide a convincing explanation is not\\nan argument in theism\\'s favor. Especially when different theisms offer \\ndifferent explanations, and even different adherents of what is purportedly\\nthe same theism give different explanations...\\n\\n>                                    God has far more complex motivations\\n>and reasons for action or non-action than to simply \"fix\" evil whenever\\n>and however it occurs, or even *before* it occurs.  And yet, it is this\\n>very same argument from incredulity which ranks high among reasons\\n>why atheists (in general) reject God and in particular the Christian God.\\n\\n Not im my experience. In my experience, the most common reason is the\\nlack of evidence in theism\\'s favor. You mileage may vary. :->\\n\\n>This seems to be the universal bane of human reasoning and rationality, \\n>to wit, that it is far easier to see the logical fallacy or inept reasoning \\n>on the part of one\\'s opponents than it is to see it in oneself.\\n\\n Oh, heck, I\\'ll be snide this once. :-> It\\'s also fairly easy to attack\\narguments that are not made. (I.e. \\'strawmen\\'.)\\n\\n>As one Man of Wisdom put it, take the log out of your own eye before you \\n>try to remove the splinter from your neighbor\\'s eye.\\n\\n Sage advice indeed.\\n\\n Sincerely,\\n\\n Raymond Ingles                       ingles@engin.umich.edu\\n\\n \"An apple every eight hours keeps three doctors away.\" - B. Kliban\\n']"
      ]
     },
     "execution_count": 9,
     "metadata": {},
     "output_type": "execute_result"
    }
   ],
   "source": [
    "data.data[:10]"
   ]
  }
 ],
 "metadata": {
  "kernelspec": {
   "display_name": "Python 3",
   "language": "python",
   "name": "python3"
  },
  "language_info": {
   "codemirror_mode": {
    "name": "ipython",
    "version": 3
   },
   "file_extension": ".py",
   "mimetype": "text/x-python",
   "name": "python",
   "nbconvert_exporter": "python",
   "pygments_lexer": "ipython3",
   "version": "3.7.3"
  }
 },
 "nbformat": 4,
 "nbformat_minor": 2
}
