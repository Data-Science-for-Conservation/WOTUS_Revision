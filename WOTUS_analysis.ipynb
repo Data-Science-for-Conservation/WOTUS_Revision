{
 "cells": [
  {
   "cell_type": "markdown",
   "metadata": {},
   "source": [
    "# Analysis of Public Comments Regarding the EPA's Revised Definition of \"Waters of the United States\" (WOTUS)\n",
    "\n",
    "In early 2017, President Trump signed an Executive Order<sup>[1](#footnote1)</sup> requesting that agencies review a 2015 rule regarding the \"Waters of the United States\". The agencies, including the Environmental Protection Agency (EPA) and the Department of the Army, were instructed to rescind or replace the rule, in accordance with law.\n",
    "\n",
    "The agencies have since conducted a reevaluation and revision of the definition of \"Waters of the United States\". Their proposed rule redefines the scope of waters federally regulated under the Clean Water Act (CWA). This rule was open for public comment until April 15, 2019.\n",
    "\n",
    "This project aims to apply Natural Language Processing (NLP) techniques to analyze the content of comments that are publicly available on the [regulations.gov web page](https://www.regulations.gov/docket?D=EPA-HQ-OW-2018-0149) for this docket. For technical reasons (see the [Data_Prep notebook](./Data_Prep.ipynb)), the dataset only includes ~8K comments, which are the ones typed directly onto the site. The dataset excludes another ~3K comments submitted in an attachment form (most of which were PDFs).\n",
    "\n",
    "Notes:\n",
    "\n",
    "<a name=\"footnote1\">1</a>: Executive Order 13778, signed on February 28, 2017, titled \"Restoring the Rule of Law, Federalism, and Economic Growth by Reviewing the 'Waters of the United States' Rule\""
   ]
  },
  {
   "cell_type": "markdown",
   "metadata": {},
   "source": [
    "## Library Imports"
   ]
  },
  {
   "cell_type": "code",
   "execution_count": 92,
   "metadata": {},
   "outputs": [],
   "source": [
    "import re\n",
    "import warnings\n",
    "warnings.filterwarnings('ignore', 'DeprecationWarning') \n",
    "\n",
    "import numpy as np\n",
    "import pandas as pd\n",
    "pd.set_option('display.max_columns', 50)\n",
    "\n",
    "import matplotlib.pyplot as plt\n",
    "%matplotlib inline\n",
    "import seaborn as sns\n",
    "\n",
    "from scipy import linalg\n",
    "from sklearn.model_selection import train_test_split\n",
    "from sklearn.feature_extraction.text import CountVectorizer, TfidfVectorizer\n",
    "from sklearn.decomposition import LatentDirichletAllocation as LDA, NMF"
   ]
  },
  {
   "cell_type": "code",
   "execution_count": 2,
   "metadata": {},
   "outputs": [
    {
     "data": {
      "text/html": [
       "<div>\n",
       "<style scoped>\n",
       "    .dataframe tbody tr th:only-of-type {\n",
       "        vertical-align: middle;\n",
       "    }\n",
       "\n",
       "    .dataframe tbody tr th {\n",
       "        vertical-align: top;\n",
       "    }\n",
       "\n",
       "    .dataframe thead th {\n",
       "        text-align: right;\n",
       "    }\n",
       "</style>\n",
       "<table border=\"1\" class=\"dataframe\">\n",
       "  <thead>\n",
       "    <tr style=\"text-align: right;\">\n",
       "      <th></th>\n",
       "      <th>Document Title</th>\n",
       "      <th>Document ID</th>\n",
       "      <th>Posted Date</th>\n",
       "      <th>Received Date</th>\n",
       "      <th>Document SubType</th>\n",
       "      <th>Post Mark Date</th>\n",
       "      <th>Document Detail</th>\n",
       "      <th>Comment</th>\n",
       "    </tr>\n",
       "  </thead>\n",
       "  <tbody>\n",
       "    <tr>\n",
       "      <th>0</th>\n",
       "      <td>Anonymous public comment</td>\n",
       "      <td>EPA-HQ-OW-2018-0149-6689</td>\n",
       "      <td>2019-04-29</td>\n",
       "      <td>2019-04-11</td>\n",
       "      <td>Public Comment</td>\n",
       "      <td>04/11/2019</td>\n",
       "      <td>https://www.regulations.gov/document?D=EPA-HQ-...</td>\n",
       "      <td>I write to express my opposition to the Enviro...</td>\n",
       "    </tr>\n",
       "    <tr>\n",
       "      <th>1</th>\n",
       "      <td>Anonymous public comment</td>\n",
       "      <td>EPA-HQ-OW-2018-0149-6688</td>\n",
       "      <td>2019-04-29</td>\n",
       "      <td>2019-04-11</td>\n",
       "      <td>Public Comment</td>\n",
       "      <td>04/11/2019</td>\n",
       "      <td>https://www.regulations.gov/document?D=EPA-HQ-...</td>\n",
       "      <td>I write to express my opposition to the Enviro...</td>\n",
       "    </tr>\n",
       "    <tr>\n",
       "      <th>2</th>\n",
       "      <td>Anonymous public comment</td>\n",
       "      <td>EPA-HQ-OW-2018-0149-7377</td>\n",
       "      <td>2019-05-01</td>\n",
       "      <td>2019-04-11</td>\n",
       "      <td>Public Comment</td>\n",
       "      <td>04/11/2019</td>\n",
       "      <td>https://www.regulations.gov/document?D=EPA-HQ-...</td>\n",
       "      <td>Please abandon this proposed rollback of the 2...</td>\n",
       "    </tr>\n",
       "    <tr>\n",
       "      <th>3</th>\n",
       "      <td>Anonymous public comment</td>\n",
       "      <td>EPA-HQ-OW-2018-0149-6707</td>\n",
       "      <td>2019-04-29</td>\n",
       "      <td>2019-04-11</td>\n",
       "      <td>Public Comment</td>\n",
       "      <td>04/11/2019</td>\n",
       "      <td>https://www.regulations.gov/document?D=EPA-HQ-...</td>\n",
       "      <td>My husband and I have two wonderful daughters,...</td>\n",
       "    </tr>\n",
       "    <tr>\n",
       "      <th>4</th>\n",
       "      <td>Comment submitted by T. Dahlin</td>\n",
       "      <td>EPA-HQ-OW-2018-0149-7983</td>\n",
       "      <td>2019-05-01</td>\n",
       "      <td>2019-04-12</td>\n",
       "      <td>Public Comment</td>\n",
       "      <td>04/12/2019</td>\n",
       "      <td>https://www.regulations.gov/document?D=EPA-HQ-...</td>\n",
       "      <td>Please do not change the definitions within th...</td>\n",
       "    </tr>\n",
       "  </tbody>\n",
       "</table>\n",
       "</div>"
      ],
      "text/plain": [
       "                   Document Title               Document ID Posted Date  \\\n",
       "0        Anonymous public comment  EPA-HQ-OW-2018-0149-6689  2019-04-29   \n",
       "1        Anonymous public comment  EPA-HQ-OW-2018-0149-6688  2019-04-29   \n",
       "2        Anonymous public comment  EPA-HQ-OW-2018-0149-7377  2019-05-01   \n",
       "3        Anonymous public comment  EPA-HQ-OW-2018-0149-6707  2019-04-29   \n",
       "4  Comment submitted by T. Dahlin  EPA-HQ-OW-2018-0149-7983  2019-05-01   \n",
       "\n",
       "  Received Date Document SubType Post Mark Date  \\\n",
       "0    2019-04-11   Public Comment     04/11/2019   \n",
       "1    2019-04-11   Public Comment     04/11/2019   \n",
       "2    2019-04-11   Public Comment     04/11/2019   \n",
       "3    2019-04-11   Public Comment     04/11/2019   \n",
       "4    2019-04-12   Public Comment     04/12/2019   \n",
       "\n",
       "                                     Document Detail  \\\n",
       "0  https://www.regulations.gov/document?D=EPA-HQ-...   \n",
       "1  https://www.regulations.gov/document?D=EPA-HQ-...   \n",
       "2  https://www.regulations.gov/document?D=EPA-HQ-...   \n",
       "3  https://www.regulations.gov/document?D=EPA-HQ-...   \n",
       "4  https://www.regulations.gov/document?D=EPA-HQ-...   \n",
       "\n",
       "                                             Comment  \n",
       "0  I write to express my opposition to the Enviro...  \n",
       "1  I write to express my opposition to the Enviro...  \n",
       "2  Please abandon this proposed rollback of the 2...  \n",
       "3  My husband and I have two wonderful daughters,...  \n",
       "4  Please do not change the definitions within th...  "
      ]
     },
     "execution_count": 2,
     "metadata": {},
     "output_type": "execute_result"
    }
   ],
   "source": [
    "full_df = pd.read_pickle('./Data/full_df.pkl')\n",
    "\n",
    "full_df.head()"
   ]
  },
  {
   "cell_type": "markdown",
   "metadata": {},
   "source": [
    "## Topic Analysis"
   ]
  },
  {
   "cell_type": "code",
   "execution_count": 67,
   "metadata": {},
   "outputs": [
    {
     "data": {
      "text/html": [
       "<div>\n",
       "<style scoped>\n",
       "    .dataframe tbody tr th:only-of-type {\n",
       "        vertical-align: middle;\n",
       "    }\n",
       "\n",
       "    .dataframe tbody tr th {\n",
       "        vertical-align: top;\n",
       "    }\n",
       "\n",
       "    .dataframe thead th {\n",
       "        text-align: right;\n",
       "    }\n",
       "</style>\n",
       "<table border=\"1\" class=\"dataframe\">\n",
       "  <thead>\n",
       "    <tr style=\"text-align: right;\">\n",
       "      <th></th>\n",
       "      <th>Document Title</th>\n",
       "      <th>Document ID</th>\n",
       "      <th>Posted Date</th>\n",
       "      <th>Received Date</th>\n",
       "      <th>Document SubType</th>\n",
       "      <th>Post Mark Date</th>\n",
       "      <th>Document Detail</th>\n",
       "      <th>Comment</th>\n",
       "      <th>Comment_processed</th>\n",
       "    </tr>\n",
       "  </thead>\n",
       "  <tbody>\n",
       "    <tr>\n",
       "      <th>0</th>\n",
       "      <td>Anonymous public comment</td>\n",
       "      <td>EPA-HQ-OW-2018-0149-6689</td>\n",
       "      <td>2019-04-29</td>\n",
       "      <td>2019-04-11</td>\n",
       "      <td>Public Comment</td>\n",
       "      <td>04/11/2019</td>\n",
       "      <td>https://www.regulations.gov/document?D=EPA-HQ-...</td>\n",
       "      <td>I write to express my opposition to the Enviro...</td>\n",
       "      <td>i write to express my opposition to the enviro...</td>\n",
       "    </tr>\n",
       "    <tr>\n",
       "      <th>1</th>\n",
       "      <td>Anonymous public comment</td>\n",
       "      <td>EPA-HQ-OW-2018-0149-6688</td>\n",
       "      <td>2019-04-29</td>\n",
       "      <td>2019-04-11</td>\n",
       "      <td>Public Comment</td>\n",
       "      <td>04/11/2019</td>\n",
       "      <td>https://www.regulations.gov/document?D=EPA-HQ-...</td>\n",
       "      <td>I write to express my opposition to the Enviro...</td>\n",
       "      <td>i write to express my opposition to the enviro...</td>\n",
       "    </tr>\n",
       "    <tr>\n",
       "      <th>2</th>\n",
       "      <td>Anonymous public comment</td>\n",
       "      <td>EPA-HQ-OW-2018-0149-7377</td>\n",
       "      <td>2019-05-01</td>\n",
       "      <td>2019-04-11</td>\n",
       "      <td>Public Comment</td>\n",
       "      <td>04/11/2019</td>\n",
       "      <td>https://www.regulations.gov/document?D=EPA-HQ-...</td>\n",
       "      <td>Please abandon this proposed rollback of the 2...</td>\n",
       "      <td>please abandon this proposed rollback of the 2...</td>\n",
       "    </tr>\n",
       "    <tr>\n",
       "      <th>3</th>\n",
       "      <td>Anonymous public comment</td>\n",
       "      <td>EPA-HQ-OW-2018-0149-6707</td>\n",
       "      <td>2019-04-29</td>\n",
       "      <td>2019-04-11</td>\n",
       "      <td>Public Comment</td>\n",
       "      <td>04/11/2019</td>\n",
       "      <td>https://www.regulations.gov/document?D=EPA-HQ-...</td>\n",
       "      <td>My husband and I have two wonderful daughters,...</td>\n",
       "      <td>my husband and i have two wonderful daughters,...</td>\n",
       "    </tr>\n",
       "    <tr>\n",
       "      <th>4</th>\n",
       "      <td>Comment submitted by T. Dahlin</td>\n",
       "      <td>EPA-HQ-OW-2018-0149-7983</td>\n",
       "      <td>2019-05-01</td>\n",
       "      <td>2019-04-12</td>\n",
       "      <td>Public Comment</td>\n",
       "      <td>04/12/2019</td>\n",
       "      <td>https://www.regulations.gov/document?D=EPA-HQ-...</td>\n",
       "      <td>Please do not change the definitions within th...</td>\n",
       "      <td>please do not change the definitions within th...</td>\n",
       "    </tr>\n",
       "  </tbody>\n",
       "</table>\n",
       "</div>"
      ],
      "text/plain": [
       "                   Document Title               Document ID Posted Date  \\\n",
       "0        Anonymous public comment  EPA-HQ-OW-2018-0149-6689  2019-04-29   \n",
       "1        Anonymous public comment  EPA-HQ-OW-2018-0149-6688  2019-04-29   \n",
       "2        Anonymous public comment  EPA-HQ-OW-2018-0149-7377  2019-05-01   \n",
       "3        Anonymous public comment  EPA-HQ-OW-2018-0149-6707  2019-04-29   \n",
       "4  Comment submitted by T. Dahlin  EPA-HQ-OW-2018-0149-7983  2019-05-01   \n",
       "\n",
       "  Received Date Document SubType Post Mark Date  \\\n",
       "0    2019-04-11   Public Comment     04/11/2019   \n",
       "1    2019-04-11   Public Comment     04/11/2019   \n",
       "2    2019-04-11   Public Comment     04/11/2019   \n",
       "3    2019-04-11   Public Comment     04/11/2019   \n",
       "4    2019-04-12   Public Comment     04/12/2019   \n",
       "\n",
       "                                     Document Detail  \\\n",
       "0  https://www.regulations.gov/document?D=EPA-HQ-...   \n",
       "1  https://www.regulations.gov/document?D=EPA-HQ-...   \n",
       "2  https://www.regulations.gov/document?D=EPA-HQ-...   \n",
       "3  https://www.regulations.gov/document?D=EPA-HQ-...   \n",
       "4  https://www.regulations.gov/document?D=EPA-HQ-...   \n",
       "\n",
       "                                             Comment  \\\n",
       "0  I write to express my opposition to the Enviro...   \n",
       "1  I write to express my opposition to the Enviro...   \n",
       "2  Please abandon this proposed rollback of the 2...   \n",
       "3  My husband and I have two wonderful daughters,...   \n",
       "4  Please do not change the definitions within th...   \n",
       "\n",
       "                                   Comment_processed  \n",
       "0  i write to express my opposition to the enviro...  \n",
       "1  i write to express my opposition to the enviro...  \n",
       "2  please abandon this proposed rollback of the 2...  \n",
       "3  my husband and i have two wonderful daughters,...  \n",
       "4  please do not change the definitions within th...  "
      ]
     },
     "execution_count": 67,
     "metadata": {},
     "output_type": "execute_result"
    }
   ],
   "source": [
    "# Process comment column for topic analysis\n",
    "\n",
    "# Remove punctuation\n",
    "full_df['Comment_processed'] = full_df['Comment'].map(lambda x: re.sub('[,\\.!?]', '', x))\n",
    "\n",
    "# Convert the titles to lowercase\n",
    "full_df['Comment_processed'] = full_df['Comment'].map(lambda x: x.lower())\n",
    "\n",
    "full_df.head()"
   ]
  },
  {
   "cell_type": "code",
   "execution_count": 68,
   "metadata": {},
   "outputs": [
    {
     "data": {
      "text/plain": [
       "0    i write to express my opposition to the enviro...\n",
       "1    i write to express my opposition to the enviro...\n",
       "2    please abandon this proposed rollback of the 2...\n",
       "3    my husband and i have two wonderful daughters,...\n",
       "4    please do not change the definitions within th...\n",
       "Name: Comment_processed, dtype: object"
      ]
     },
     "execution_count": 68,
     "metadata": {},
     "output_type": "execute_result"
    }
   ],
   "source": [
    "comments = full_df['Comment_processed']\n",
    "\n",
    "comments.head()"
   ]
  },
  {
   "cell_type": "code",
   "execution_count": 70,
   "metadata": {},
   "outputs": [],
   "source": [
    "# Helper function to show top words per topics\n",
    "def show_topics(Vh, vocab_array, n_top_words=8):\n",
    "    \"\"\"\n",
    "    Returns a list of the n_top_words from topic matrix Vh\n",
    "    :param Vh: a topic-by-vocabulary orthonormal matrix\n",
    "    :param vocab_array: a Numpy array of the vocabulary terms\n",
    "        from the documents used in the analysis\n",
    "    :param n_top_words: int of how many words to show by topic\n",
    "    :return: list of strings with top words by topic in Vh\n",
    "    \n",
    "    >>>show_topics(my_Vh_matrix[:4], vocab)\n",
    "    ['space launch satellite nasa commercial market satellites data',\n",
    "     'god atheists atheism religious believe argument religion true',\n",
    "     'nasa space lunar available mars probe moon edu',\n",
    "     'atheists religious atheism god religion believe belief atheist']\n",
    "    \"\"\"\n",
    "    top_words = lambda t: [vocab_array[i] for i in np.argsort(t)[:-n_top_words-1:-1]]\n",
    "    topic_words = ([top_words(t) for t in Vh])\n",
    "    return [' '.join(t) for t in topic_words]"
   ]
  },
  {
   "cell_type": "code",
   "execution_count": 71,
   "metadata": {},
   "outputs": [],
   "source": [
    "# Helper function to plot most common words\n",
    "def plot_most_common_words(count_data, count_vect, n=10):\n",
    "    \"\"\"\n",
    "    :param count_data: data after running a CountVectorizer.fit_transform()\n",
    "    :param count_vect: a CountVectorizer() instance\n",
    "    :param n: int for how many top words to plot\n",
    "    :return: None; plots a matplotlib.pyplot bar chart of top n words\n",
    "    \"\"\"\n",
    "    import matplotlib.pyplot as plt\n",
    "    \n",
    "    words = count_vect.get_feature_names()\n",
    "    total_counts = np.zeros(len(words))\n",
    "    for t in count_data:\n",
    "        total_counts += t.toarray()[0]\n",
    "    \n",
    "    count_dict = (zip(words, total_counts))\n",
    "    count_dict = sorted(count_dict, key=lambda x:x[1], reverse=True)[0:n]\n",
    "    words = [w[0] for w in count_dict]\n",
    "    counts = [w[1] for w in count_dict]\n",
    "    x_pos = np.arange(len(words)) \n",
    "\n",
    "    plt.bar(x_pos, counts,align='center')\n",
    "    plt.xticks(x_pos, words, rotation=90) \n",
    "    plt.xlabel('Words')\n",
    "    plt.ylabel('Counts')\n",
    "    plt.title('{} Most Common Words'.format(n))\n",
    "    plt.show()\n"
   ]
  },
  {
   "cell_type": "code",
   "execution_count": 78,
   "metadata": {},
   "outputs": [
    {
     "name": "stdout",
     "output_type": "stream",
     "text": [
      "(8187, 22434)\n"
     ]
    }
   ],
   "source": [
    "# Create matrix with word counts by comment\n",
    "# TOKENS_ALPHANUM = '[A-Za-z0-9]+(?=\\\\s+)'\n",
    "\n",
    "count_vec = CountVectorizer(stop_words='english')\n",
    "\n",
    "count_data = count_vec.fit_transform(comments)\n",
    "print(count_data.shape)\n",
    "\n",
    "# Create array of vocabulary terms\n",
    "vocab = np.array(count_vec.get_feature_names())"
   ]
  },
  {
   "cell_type": "code",
   "execution_count": 80,
   "metadata": {},
   "outputs": [
    {
     "name": "stdout",
     "output_type": "stream",
     "text": [
      "['abomination' 'abound' 'abounds' 'aboutepa' 'aboveground' 'aboveis' 'abq'\n",
      " 'abraham' 'abrahams' 'abrahamson' 'abrams' 'abreast' 'abridge' 'abridged'\n",
      " 'abroad' 'abrogated' 'abrogation' 'abrsorbing' 'abruptly' 'absence'\n",
      " 'absent' 'absolute' 'absolutely' 'absolve' 'absorb' 'absorbed'\n",
      " 'absorbing' 'absorbs' 'absorption' 'abstention' 'abstract' 'absurd'\n",
      " 'absurdities' 'absurdity' 'absurdly' 'abudent' 'abudt' 'abundance'\n",
      " 'abundant' 'abundent' 'abuse' 'abused' 'abuses' 'abusing' 'abusive'\n",
      " 'abut' 'abuting' 'abuts' 'abutted' 'abutting' 'abysmal' 'academia'\n",
      " 'academic' 'academically' 'academy' 'accelerate' 'accelerated'\n",
      " 'accelerates' 'accelerating' 'accept' 'acceptability' 'acceptable'\n",
      " 'acceptance' 'accepted' 'acceptible' 'accepting' 'accepts' 'access'\n",
      " 'accesse' 'accessed' 'accessibility' 'accessible' 'accessing'\n",
      " 'accheivment' 'accident' 'accidental' 'accidentally' 'accidents'\n",
      " 'accolades' 'accomadate' 'accommodate' 'accommodating' 'accomodate'\n",
      " 'accompanied' 'accompanies' 'accompany' 'accompanying' 'accompilsh'\n",
      " 'accomplish' 'accomplished' 'accomplishes' 'accomplishing'\n",
      " 'accomplishment' 'accord' 'accordance' 'according' 'accordingly'\n",
      " 'accotink' 'account' 'accountability']\n"
     ]
    }
   ],
   "source": [
    "s = 1100\n",
    "print(vocab[s:s+100])"
   ]
  },
  {
   "cell_type": "code",
   "execution_count": 81,
   "metadata": {},
   "outputs": [
    {
     "data": {
      "image/png": "[encoded data removed]",
      "text/plain": [
       "<Figure size 432x288 with 1 Axes>"
      ]
     },
     "metadata": {
      "needs_background": "light"
     },
     "output_type": "display_data"
    }
   ],
   "source": [
    "plot_most_common_words(count_data, count_vec)"
   ]
  },
  {
   "cell_type": "markdown",
   "metadata": {},
   "source": [
    "### Singular Value Decomposition Analysis"
   ]
  },
  {
   "cell_type": "code",
   "execution_count": 82,
   "metadata": {},
   "outputs": [
    {
     "name": "stdout",
     "output_type": "stream",
     "text": [
      "(8187, 8187) (8187,) (8187, 22434)\n"
     ]
    }
   ],
   "source": [
    "# Run SVD to create topic matrices\n",
    "U, s, Vh = linalg.svd(count_data.todense(), full_matrices=False)\n",
    "print(U.shape, s.shape, Vh.shape)"
   ]
  },
  {
   "cell_type": "code",
   "execution_count": 83,
   "metadata": {},
   "outputs": [
    {
     "data": {
      "image/png": "[encoded data removed]",
      "text/plain": [
       "<Figure size 432x288 with 1 Axes>"
      ]
     },
     "metadata": {
      "needs_background": "light"
     },
     "output_type": "display_data"
    }
   ],
   "source": [
    "# Plot s to see where topic importance drops off\n",
    "plt.plot(range(1, 11), s[:10]);"
   ]
  },
  {
   "cell_type": "code",
   "execution_count": 84,
   "metadata": {},
   "outputs": [
    {
     "data": {
      "text/plain": [
       "['rosamond torrance winthrop devan artem faillacetarrytown lunatic feeler',\n",
       " 'water clean waterways families act proposal drinking gut',\n",
       " 'epa states waters farmers definition support united land',\n",
       " 'water clean dirty clear communities need polluters rule',\n",
       " 'waters water states quality united protections wetlands park',\n",
       " 'clean waterways rule dirty polluters protections waters communities',\n",
       " 'waterways new adjacent categories quality ephemeral percent creeks',\n",
       " 'states definition united dirty communities polluters epa important',\n",
       " 'water definition wotus drinking epa bodies cwa protection',\n",
       " 'epa corps wetlands proposal protection protections streams park']"
      ]
     },
     "execution_count": 84,
     "metadata": {},
     "output_type": "execute_result"
    }
   ],
   "source": [
    "# Print top 10 topics\n",
    "show_topics(Vh[:10], vocab)"
   ]
  },
  {
   "cell_type": "markdown",
   "metadata": {},
   "source": [
    "### LDA"
   ]
  },
  {
   "cell_type": "code",
   "execution_count": 85,
   "metadata": {},
   "outputs": [
    {
     "data": {
      "text/plain": [
       "LatentDirichletAllocation(batch_size=128, doc_topic_prior=None,\n",
       "                          evaluate_every=-1, learning_decay=0.7,\n",
       "                          learning_method='batch', learning_offset=10.0,\n",
       "                          max_doc_update_iter=100, max_iter=10,\n",
       "                          mean_change_tol=0.001, n_components=10, n_jobs=None,\n",
       "                          perp_tol=0.1, random_state=None,\n",
       "                          topic_word_prior=None, total_samples=1000000.0,\n",
       "                          verbose=0)"
      ]
     },
     "execution_count": 85,
     "metadata": {},
     "output_type": "execute_result"
    }
   ],
   "source": [
    "n_topics = 10\n",
    "\n",
    "# Create and fit an LDA model\n",
    "lda = LDA(n_components=n_topics)\n",
    "lda.fit(count_data)"
   ]
  },
  {
   "cell_type": "code",
   "execution_count": 87,
   "metadata": {},
   "outputs": [
    {
     "data": {
      "text/plain": [
       "(10, 22434)"
      ]
     },
     "execution_count": 87,
     "metadata": {},
     "output_type": "execute_result"
    }
   ],
   "source": [
    "lda.components_.shape"
   ]
  },
  {
   "cell_type": "code",
   "execution_count": 88,
   "metadata": {},
   "outputs": [
    {
     "data": {
      "text/plain": [
       "['water rules rule farmers clean land support clear',\n",
       " 'water clean act waterways streams families proposal drinking',\n",
       " 'water waters definition wetlands states protection clean change',\n",
       " 'water clean people environment protect regards life need',\n",
       " 'river creek area live regards county fish family',\n",
       " 'president trump absurd north https coast regards accessed',\n",
       " 'water streams clean wetlands protections rule proposed downstream',\n",
       " 'water clean act waters rule states united protections',\n",
       " 'regards water waters states regulation life united repeal',\n",
       " 'water waters rule wetlands proposed streams waterways states']"
      ]
     },
     "execution_count": 88,
     "metadata": {},
     "output_type": "execute_result"
    }
   ],
   "source": [
    "show_topics(lda.components_, vocab)"
   ]
  },
  {
   "cell_type": "markdown",
   "metadata": {},
   "source": [
    "## NMF"
   ]
  },
  {
   "cell_type": "code",
   "execution_count": 95,
   "metadata": {},
   "outputs": [],
   "source": [
    "# Create and fit an NMF model\n",
    "nmf = NMF(n_components=n_topics,\n",
    "          random_state=42)\n",
    "\n",
    "W1 = nmf.fit_transform(count_data)\n",
    "H1 = nmf.components_"
   ]
  },
  {
   "cell_type": "code",
   "execution_count": 96,
   "metadata": {},
   "outputs": [
    {
     "data": {
      "text/plain": [
       "['water clean act protections protect river life drinking',\n",
       " 'water definition wetlands wotus drinking ephemeral surface intermittent',\n",
       " 'streams wetlands downstream rule proposed flow small rivers',\n",
       " 'water waterways act proposal streams waters families clean',\n",
       " 'rule proposed waters epa wotus 2015 case support',\n",
       " 'water farmers rules land rule epa clear new',\n",
       " 'waterways rule proposed wetlands streams new waters categories',\n",
       " 'water protections wetlands streams park quality parks waters',\n",
       " 'waters states united wetlands protection act definition revised',\n",
       " 'water clean rule communities epa dirty polluters waterways']"
      ]
     },
     "execution_count": 96,
     "metadata": {},
     "output_type": "execute_result"
    }
   ],
   "source": [
    "show_topics(H1, vocab)"
   ]
  }
 ],
 "metadata": {
  "kernelspec": {
   "display_name": "Python 3",
   "language": "python",
   "name": "python3"
  },
  "language_info": {
   "codemirror_mode": {
    "name": "ipython",
    "version": 3
   },
   "file_extension": ".py",
   "mimetype": "text/x-python",
   "name": "python",
   "nbconvert_exporter": "python",
   "pygments_lexer": "ipython3",
   "version": "3.7.3"
  }
 },
 "nbformat": 4,
 "nbformat_minor": 2
}
