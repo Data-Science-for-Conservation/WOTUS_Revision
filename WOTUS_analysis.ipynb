{
 "cells": [
  {
   "cell_type": "markdown",
   "metadata": {},
   "source": [
    "# Analysis of Public Comments Regarding the EPA's Revised Definition of \"Waters of the United States\" (WOTUS)\n",
    "\n",
    "In early 2017, President Trump signed an Executive Order<sup>[1](#footnote1)</sup> requesting that agencies review a 2015 rule regarding the \"Waters of the United States\". The agencies, including the Environmental Protection Agency (EPA) and the Department of the Army, were instructed to rescind or replace the rule, in accordance with law.\n",
    "\n",
    "The agencies have since conducted a reevaluation and revision of the definition of \"Waters of the United States\". Their proposed rule redefines the scope of waters federally regulated under the Clean Water Act (CWA). This rule was open for public comment until April 15, 2019.\n",
    "\n",
    "This project aims to analyze the content of comments that are publicly available on the [regulations.gov web page](https://www.regulations.gov/docket?D=EPA-HQ-OW-2018-0149) for this docket.\n",
    "\n",
    "## Collecting the Data\n",
    "\n",
    "As of October 2019, there were 625,521 comments received on the docket, of which 11,412 are posted and publicly available under \"public submissions\". The discrepancy can be attributed to the following note on the site:\n",
    "\n",
    ">Agencies review all submissions, however some agencies may choose to redact, or withhold, certain submissions (or portions thereof) such as those containing private or proprietary information, inappropriate language, or duplicate/near duplicate examples of a mass-mail campaign.\n",
    "\n",
    "The regulations.gov site actually has an API to request data programmatically, however API keys are only available to organizations (not individuals). Thus, this project uses a web scraping program to loop over a `.csv` file with all docket information (including unique pages for each public submission) to collect and compile the comments. The `.csv` file  is saved in the `/Data` directory, or it can be exported directly from the page [to view public comments](https://www.regulations.gov/docketBrowser?rpp=25&so=DESC&sb=commentDueDate&po=0&dct=PS&D=EPA-HQ-OW-2018-0149).\n",
    "\n",
    "There are two noteworthy items about the web scraper. First, the regulations.gov site is rendered using JavaScript, so the web scraper needs to use the [Selenium package](https://github.com/SeleniumHQ/selenium/) to open a browser, pause to let the page load, then grab the comment. Second, not all comments are available as text on the site, since it allows public submissions in attachment form as well as typing them in directly. Approximately 28% of the comments are in `.pdf` attachment form, and the scraper could not collect the information within.\n",
    "\n",
    "Notes:\n",
    "\n",
    "<a name=\"footnote1\">1</a>: Executive Order 13778, signed on February 28, 2017, titled \"Restoring the Rule of Law, Federalism, and Economic Growth by Reviewing the 'Waters of the United States' Rule\"\n"
   ]
  }
 ],
 "metadata": {
  "kernelspec": {
   "display_name": "Python 3",
   "language": "python",
   "name": "python3"
  },
  "language_info": {
   "codemirror_mode": {
    "name": "ipython",
    "version": 3
   },
   "file_extension": ".py",
   "mimetype": "text/x-python",
   "name": "python",
   "nbconvert_exporter": "python",
   "pygments_lexer": "ipython3",
   "version": "3.7.3"
  }
 },
 "nbformat": 4,
 "nbformat_minor": 2
}
